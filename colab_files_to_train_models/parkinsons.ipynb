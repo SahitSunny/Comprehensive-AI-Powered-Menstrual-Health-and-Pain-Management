{
 "cells": [
  {
   "cell_type": "code",
   "execution_count": 1,
   "metadata": {},
   "outputs": [],
   "source": [
    "import pandas as pd\n",
    "from sklearn.model_selection import train_test_split\n",
    "from sklearn.naive_bayes import GaussianNB\n",
    "from sklearn.metrics import accuracy_score, confusion_matrix, classification_report\n",
    "from sklearn.preprocessing import StandardScaler\n",
    "\n",
    "df = pd.read_csv('../dataset/parkinsons.csv')\n",
    "\n",
    "\n",
    "X = df.drop('Parkinson_Label', axis=1)\n",
    "y = df['Parkinson_Label']\n",
    "\n",
    "\n",
    "X_train, X_test, y_train, y_test = train_test_split(X, y, test_size=0.3, random_state=42)"
   ]
  },
  {
   "cell_type": "code",
   "execution_count": null,
   "metadata": {},
   "outputs": [],
   "source": [
    "X.columns"
   ]
  },
  {
   "cell_type": "code",
   "execution_count": null,
   "metadata": {},
   "outputs": [],
   "source": [
    "scaler = StandardScaler() \n",
    "\n",
    "X_train_scaled = scaler.fit_transform(X_train)\n",
    "X_test_scaled = scaler.transform(X_test)"
   ]
  },
  {
   "cell_type": "code",
   "execution_count": null,
   "metadata": {},
   "outputs": [
    {
     "name": "stdout",
     "output_type": "stream",
     "text": [
      "Accuracy: 0.5255\n",
      "Confusion Matrix:\n",
      "[[1756 1252]\n",
      " [1595 1397]]\n",
      "Classification Report:\n",
      "              precision    recall  f1-score   support\n",
      "\n",
      "           0       0.52      0.58      0.55      3008\n",
      "           1       0.53      0.47      0.50      2992\n",
      "\n",
      "    accuracy                           0.53      6000\n",
      "   macro avg       0.53      0.53      0.52      6000\n",
      "weighted avg       0.53      0.53      0.52      6000\n",
      "\n"
     ]
    }
   ],
   "source": [
    "import pandas as pd\n",
    "from sklearn.model_selection import train_test_split\n",
    "from sklearn.preprocessing import StandardScaler\n",
    "from sklearn.ensemble import RandomForestClassifier\n",
    "from sklearn.metrics import accuracy_score, confusion_matrix, classification_report\n",
    "\n",
    "\n",
    "\n",
    "\n",
    "rf_classifier = RandomForestClassifier(n_estimators=100, random_state=42)\n",
    "\n",
    "\n",
    "rf_classifier.fit(X_train_scaled, y_train)\n",
    "\n",
    "\n",
    "y_pred = rf_classifier.predict(X_test_scaled)\n",
    "\n",
    "accuracy = accuracy_score(y_test, y_pred)\n",
    "conf_matrix = confusion_matrix(y_test, y_pred)\n",
    "class_report = classification_report(y_test, y_pred)\n",
    "\n",
    "print(f'Accuracy: {accuracy}')\n",
    "print('Confusion Matrix:')\n",
    "print(conf_matrix)\n",
    "print('Classification Report:')\n",
    "print(class_report)"
   ]
  },
  {
   "cell_type": "code",
   "execution_count": 4,
   "metadata": {},
   "outputs": [
    {
     "name": "stderr",
     "output_type": "stream",
     "text": [
      "c:\\Users\\sahit\\AppData\\Local\\Programs\\Python\\Python312\\Lib\\site-packages\\sklearn\\base.py:465: UserWarning: X does not have valid feature names, but StandardScaler was fitted with feature names\n",
      "  warnings.warn(\n"
     ]
    },
    {
     "data": {
      "text/plain": [
       "array([[ 0.30464886,  1.01351996,  1.0010005 ,  1.00443842,  0.99857245,\n",
       "         1.00071454,  1.00314781,  1.00745637,  0.9778174 ,  1.00817628,\n",
       "         1.01221749,  1.00214516,  0.99743187,  0.99472818,  1.01671104,\n",
       "         1.00889672,  0.99160665,  1.002002  ,  0.99985715,  1.00889672,\n",
       "         0.97544426,  1.00057159],\n",
       "       [ 0.70810276, -0.98666039,  1.0010005 , -0.99558119,  0.99857245,\n",
       "        -0.99928597,  1.00314781,  1.00745637, -1.02268583,  1.00817628,\n",
       "        -0.98792998,  1.00214516, -1.00257474,  0.99472818,  1.01671104,\n",
       "        -0.99118174, -1.00846439,  1.002002  ,  0.99985715, -0.99118174,\n",
       "         0.97544426,  1.00057159],\n",
       "       [-1.13625792,  1.01351996, -0.9990005 , -0.99558119, -1.00142959,\n",
       "        -0.99928597, -0.99686207, -0.99259882, -1.02268583, -0.99189003,\n",
       "        -0.98792998, -0.99785943, -1.00257474, -1.00529976, -0.98356363,\n",
       "        -0.99118174, -1.00846439, -0.998002  , -1.00014287, -0.99118174,\n",
       "        -1.02517391, -0.99942873],\n",
       "       [ 0.4199214 ,  1.01351996,  1.0010005 ,  1.00443842,  0.99857245,\n",
       "        -0.99928597,  1.00314781,  1.00745637,  0.9778174 ,  1.00817628,\n",
       "         1.01221749, -0.99785943,  0.99743187,  0.99472818,  1.01671104,\n",
       "         1.00889672,  0.99160665, -0.998002  , -1.00014287,  1.00889672,\n",
       "         0.97544426,  1.00057159],\n",
       "       [-0.27171385, -0.98666039, -0.9990005 , -0.99558119,  0.99857245,\n",
       "        -0.99928597,  1.00314781, -0.99259882, -1.02268583, -0.99189003,\n",
       "        -0.98792998, -0.99785943,  0.99743187, -1.00529976,  1.01671104,\n",
       "        -0.99118174, -1.00846439,  1.002002  , -1.00014287, -0.99118174,\n",
       "         0.97544426, -0.99942873],\n",
       "       [ 0.47755768, -0.98666039,  1.0010005 ,  1.00443842,  0.99857245,\n",
       "         1.00071454, -0.99686207, -0.99259882,  0.9778174 ,  1.00817628,\n",
       "         1.01221749,  1.00214516,  0.99743187,  0.99472818, -0.98356363,\n",
       "         1.00889672, -1.00846439,  1.002002  ,  0.99985715,  1.00889672,\n",
       "        -1.02517391,  1.00057159],\n",
       "       [-0.84807656,  1.01351996, -0.9990005 , -0.99558119, -1.00142959,\n",
       "        -0.99928597, -0.99686207, -0.99259882, -1.02268583, -0.99189003,\n",
       "        -0.98792998, -0.99785943, -1.00257474,  0.99472818, -0.98356363,\n",
       "        -0.99118174, -1.00846439, -0.998002  ,  0.99985715,  1.00889672,\n",
       "        -1.02517391, -0.99942873],\n",
       "       [ 0.18937632,  1.01351996,  1.0010005 ,  1.00443842, -1.00142959,\n",
       "         1.00071454,  1.00314781,  1.00745637, -1.02268583,  1.00817628,\n",
       "        -0.98792998,  1.00214516,  0.99743187,  0.99472818,  1.01671104,\n",
       "         1.00889672,  0.99160665, -0.998002  , -1.00014287,  1.00889672,\n",
       "        -1.02517391,  1.00057159],\n",
       "       [ 0.59283022, -0.98666039, -0.9990005 , -0.99558119,  0.99857245,\n",
       "         1.00071454, -0.99686207,  1.00745637, -1.02268583, -0.99189003,\n",
       "         1.01221749, -0.99785943,  0.99743187, -1.00529976, -0.98356363,\n",
       "        -0.99118174,  0.99160665, -0.998002  ,  0.99985715,  1.00889672,\n",
       "         0.97544426, -0.99942873],\n",
       "       [-0.44462266,  1.01351996, -0.9990005 ,  1.00443842, -1.00142959,\n",
       "         1.00071454,  1.00314781,  1.00745637, -1.02268583,  1.00817628,\n",
       "         1.01221749, -0.99785943,  0.99743187, -1.00529976,  1.01671104,\n",
       "         1.00889672, -1.00846439, -0.998002  , -1.00014287, -0.99118174,\n",
       "         0.97544426, -0.99942873]])"
      ]
     },
     "execution_count": 4,
     "metadata": {},
     "output_type": "execute_result"
    }
   ],
   "source": [
    "test_cases = [\n",
    "    [65, 1, 1, 1, 1, 1, 1, 1, 1, 1, 1, 1, 1, 1, 1, 1, 1, 1, 1, 1, 1, 1],  # Likely Parkinson's with multiple symptoms\n",
    "    [72, 0, 1, 0, 1, 0, 1, 1, 0, 1, 0, 1, 0, 1, 1, 0, 0, 1, 1, 0, 1, 1],  # Likely Parkinson's with specific symptoms\n",
    "    [40, 1, 0, 0, 0, 0, 0, 0, 0, 0, 0, 0, 0, 0, 0, 0, 0, 0, 0, 0, 0, 0],  # Likely no Parkinson's with no symptoms\n",
    "    [67, 1, 1, 1, 1, 0, 1, 1, 1, 1, 1, 0, 1, 1, 1, 1, 1, 0, 0, 1, 1, 1],  # Likely Parkinson's with diverse symptoms\n",
    "    [55, 0, 0, 0, 1, 0, 1, 0, 0, 0, 0, 0, 1, 0, 1, 0, 0, 1, 0, 0, 1, 0],  # Likely no Parkinson's with minor issues\n",
    "    [68, 0, 1, 1, 1, 1, 0, 0, 1, 1, 1, 1, 1, 1, 0, 1, 0, 1, 1, 1, 0, 1],  # Likely Parkinson's with most symptoms\n",
    "    [45, 1, 0, 0, 0, 0, 0, 0, 0, 0, 0, 0, 0, 1, 0, 0, 0, 0, 1, 1, 0, 0],  # Likely no Parkinson's with minor issues\n",
    "    [63, 1, 1, 1, 0, 1, 1, 1, 0, 1, 0, 1, 1, 1, 1, 1, 1, 0, 0, 1, 0, 1],  # Likely Parkinson's with significant symptoms\n",
    "    [70, 0, 0, 0, 1, 1, 0, 1, 0, 0, 1, 0, 1, 0, 0, 0, 1, 0, 1, 1, 1, 0],  # Likely no Parkinson's with mild symptoms\n",
    "    [52, 1, 0, 1, 0, 1, 1, 1, 0, 1, 1, 0, 1, 0, 1, 1, 0, 0, 0, 0, 1, 0]   # Likely no Parkinson's with mixed symptoms\n",
    "]\n",
    "test = scaler.transform(test_cases)\n",
    "test"
   ]
  },
  {
   "cell_type": "code",
   "execution_count": 5,
   "metadata": {},
   "outputs": [
    {
     "data": {
      "text/plain": [
       "array([1, 0, 0, 1, 1, 1, 1, 0, 0, 0], dtype=int64)"
      ]
     },
     "execution_count": 5,
     "metadata": {},
     "output_type": "execute_result"
    }
   ],
   "source": [
    "prd = rf_classifier.predict(test)\n",
    "prd"
   ]
  },
  {
   "cell_type": "code",
   "execution_count": null,
   "metadata": {},
   "outputs": [],
   "source": [
    "import pickle\n",
    "with open('parkinsons_model.pkl', 'wb') as f:\n",
    "    pickle.dump(rf_classifier, f)\n"
   ]
  },
  {
   "cell_type": "code",
   "execution_count": 6,
   "metadata": {},
   "outputs": [],
   "source": [
    "import pickle\n",
    "with open('parkinsons_scaler.pkl', 'wb') as f:\n",
    "    pickle.dump(scaler, f)\n"
   ]
  },
  {
   "cell_type": "code",
   "execution_count": null,
   "metadata": {},
   "outputs": [],
   "source": []
  }
 ],
 "metadata": {
  "kernelspec": {
   "display_name": "Python 3",
   "language": "python",
   "name": "python3"
  },
  "language_info": {
   "codemirror_mode": {
    "name": "ipython",
    "version": 3
   },
   "file_extension": ".py",
   "mimetype": "text/x-python",
   "name": "python",
   "nbconvert_exporter": "python",
   "pygments_lexer": "ipython3",
   "version": "3.12.5"
  }
 },
 "nbformat": 4,
 "nbformat_minor": 2
}
