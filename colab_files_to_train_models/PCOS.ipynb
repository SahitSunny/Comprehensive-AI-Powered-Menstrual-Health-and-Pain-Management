{
 "cells": [
  {
   "cell_type": "code",
   "execution_count": 7,
   "metadata": {},
   "outputs": [],
   "source": [
    "import xgboost as xgb\n",
    "import numpy as np\n",
    "import pandas as pd\n",
    "from sklearn.model_selection import train_test_split,cross_val_score\n",
    "from sklearn.metrics import accuracy_score, classification_report\n",
    "from sklearn.preprocessing import LabelEncoder"
   ]
  },
  {
   "cell_type": "code",
   "execution_count": null,
   "metadata": {},
   "outputs": [],
   "source": [
    "df = pd.read_csv('../dataset/PCOS.csv')"
   ]
  },
  {
   "cell_type": "code",
   "execution_count": 9,
   "metadata": {},
   "outputs": [
    {
     "data": {
      "text/html": [
       "<div>\n",
       "<style scoped>\n",
       "    .dataframe tbody tr th:only-of-type {\n",
       "        vertical-align: middle;\n",
       "    }\n",
       "\n",
       "    .dataframe tbody tr th {\n",
       "        vertical-align: top;\n",
       "    }\n",
       "\n",
       "    .dataframe thead th {\n",
       "        text-align: right;\n",
       "    }\n",
       "</style>\n",
       "<table border=\"1\" class=\"dataframe\">\n",
       "  <thead>\n",
       "    <tr style=\"text-align: right;\">\n",
       "      <th></th>\n",
       "      <th>BMI</th>\n",
       "      <th>Fatigue_Levels</th>\n",
       "      <th>Headaches</th>\n",
       "      <th>Urinary_Issues</th>\n",
       "      <th>Fertility_Status</th>\n",
       "      <th>Sleep_Apnea</th>\n",
       "      <th>Family_History</th>\n",
       "      <th>Palpitations</th>\n",
       "      <th>Vision_Problems</th>\n",
       "      <th>Mood_Disorders</th>\n",
       "    </tr>\n",
       "  </thead>\n",
       "  <tbody>\n",
       "    <tr>\n",
       "      <th>4775</th>\n",
       "      <td>34.539309</td>\n",
       "      <td>0</td>\n",
       "      <td>1</td>\n",
       "      <td>0</td>\n",
       "      <td>0</td>\n",
       "      <td>0</td>\n",
       "      <td>1</td>\n",
       "      <td>0</td>\n",
       "      <td>0</td>\n",
       "      <td>2</td>\n",
       "    </tr>\n",
       "    <tr>\n",
       "      <th>927</th>\n",
       "      <td>19.811076</td>\n",
       "      <td>0</td>\n",
       "      <td>0</td>\n",
       "      <td>0</td>\n",
       "      <td>0</td>\n",
       "      <td>0</td>\n",
       "      <td>0</td>\n",
       "      <td>0</td>\n",
       "      <td>0</td>\n",
       "      <td>0</td>\n",
       "    </tr>\n",
       "    <tr>\n",
       "      <th>3258</th>\n",
       "      <td>21.249397</td>\n",
       "      <td>0</td>\n",
       "      <td>0</td>\n",
       "      <td>0</td>\n",
       "      <td>0</td>\n",
       "      <td>0</td>\n",
       "      <td>0</td>\n",
       "      <td>0</td>\n",
       "      <td>0</td>\n",
       "      <td>0</td>\n",
       "    </tr>\n",
       "    <tr>\n",
       "      <th>45</th>\n",
       "      <td>23.538320</td>\n",
       "      <td>0</td>\n",
       "      <td>0</td>\n",
       "      <td>0</td>\n",
       "      <td>0</td>\n",
       "      <td>0</td>\n",
       "      <td>0</td>\n",
       "      <td>0</td>\n",
       "      <td>0</td>\n",
       "      <td>0</td>\n",
       "    </tr>\n",
       "    <tr>\n",
       "      <th>1260</th>\n",
       "      <td>21.230021</td>\n",
       "      <td>0</td>\n",
       "      <td>2</td>\n",
       "      <td>1</td>\n",
       "      <td>0</td>\n",
       "      <td>1</td>\n",
       "      <td>1</td>\n",
       "      <td>0</td>\n",
       "      <td>0</td>\n",
       "      <td>2</td>\n",
       "    </tr>\n",
       "    <tr>\n",
       "      <th>...</th>\n",
       "      <td>...</td>\n",
       "      <td>...</td>\n",
       "      <td>...</td>\n",
       "      <td>...</td>\n",
       "      <td>...</td>\n",
       "      <td>...</td>\n",
       "      <td>...</td>\n",
       "      <td>...</td>\n",
       "      <td>...</td>\n",
       "      <td>...</td>\n",
       "    </tr>\n",
       "    <tr>\n",
       "      <th>3772</th>\n",
       "      <td>29.202788</td>\n",
       "      <td>2</td>\n",
       "      <td>2</td>\n",
       "      <td>0</td>\n",
       "      <td>1</td>\n",
       "      <td>0</td>\n",
       "      <td>0</td>\n",
       "      <td>0</td>\n",
       "      <td>0</td>\n",
       "      <td>1</td>\n",
       "    </tr>\n",
       "    <tr>\n",
       "      <th>5191</th>\n",
       "      <td>21.249397</td>\n",
       "      <td>0</td>\n",
       "      <td>0</td>\n",
       "      <td>0</td>\n",
       "      <td>0</td>\n",
       "      <td>0</td>\n",
       "      <td>0</td>\n",
       "      <td>0</td>\n",
       "      <td>0</td>\n",
       "      <td>0</td>\n",
       "    </tr>\n",
       "    <tr>\n",
       "      <th>5226</th>\n",
       "      <td>34.019537</td>\n",
       "      <td>0</td>\n",
       "      <td>2</td>\n",
       "      <td>1</td>\n",
       "      <td>0</td>\n",
       "      <td>1</td>\n",
       "      <td>1</td>\n",
       "      <td>0</td>\n",
       "      <td>1</td>\n",
       "      <td>2</td>\n",
       "    </tr>\n",
       "    <tr>\n",
       "      <th>5390</th>\n",
       "      <td>21.187489</td>\n",
       "      <td>2</td>\n",
       "      <td>0</td>\n",
       "      <td>1</td>\n",
       "      <td>1</td>\n",
       "      <td>1</td>\n",
       "      <td>0</td>\n",
       "      <td>1</td>\n",
       "      <td>1</td>\n",
       "      <td>2</td>\n",
       "    </tr>\n",
       "    <tr>\n",
       "      <th>860</th>\n",
       "      <td>34.919619</td>\n",
       "      <td>0</td>\n",
       "      <td>0</td>\n",
       "      <td>0</td>\n",
       "      <td>0</td>\n",
       "      <td>0</td>\n",
       "      <td>0</td>\n",
       "      <td>2</td>\n",
       "      <td>0</td>\n",
       "      <td>2</td>\n",
       "    </tr>\n",
       "  </tbody>\n",
       "</table>\n",
       "<p>4200 rows × 10 columns</p>\n",
       "</div>"
      ],
      "text/plain": [
       "            BMI  Fatigue_Levels  Headaches  Urinary_Issues  Fertility_Status  \\\n",
       "4775  34.539309               0          1               0                 0   \n",
       "927   19.811076               0          0               0                 0   \n",
       "3258  21.249397               0          0               0                 0   \n",
       "45    23.538320               0          0               0                 0   \n",
       "1260  21.230021               0          2               1                 0   \n",
       "...         ...             ...        ...             ...               ...   \n",
       "3772  29.202788               2          2               0                 1   \n",
       "5191  21.249397               0          0               0                 0   \n",
       "5226  34.019537               0          2               1                 0   \n",
       "5390  21.187489               2          0               1                 1   \n",
       "860   34.919619               0          0               0                 0   \n",
       "\n",
       "      Sleep_Apnea  Family_History  Palpitations  Vision_Problems  \\\n",
       "4775            0               1             0                0   \n",
       "927             0               0             0                0   \n",
       "3258            0               0             0                0   \n",
       "45              0               0             0                0   \n",
       "1260            1               1             0                0   \n",
       "...           ...             ...           ...              ...   \n",
       "3772            0               0             0                0   \n",
       "5191            0               0             0                0   \n",
       "5226            1               1             0                1   \n",
       "5390            1               0             1                1   \n",
       "860             0               0             2                0   \n",
       "\n",
       "      Mood_Disorders  \n",
       "4775               2  \n",
       "927                0  \n",
       "3258               0  \n",
       "45                 0  \n",
       "1260               2  \n",
       "...              ...  \n",
       "3772               1  \n",
       "5191               0  \n",
       "5226               2  \n",
       "5390               2  \n",
       "860                2  \n",
       "\n",
       "[4200 rows x 10 columns]"
      ]
     },
     "execution_count": 9,
     "metadata": {},
     "output_type": "execute_result"
    }
   ],
   "source": [
    "X = df.drop(columns=['PCOS_Label'])\n",
    "y = df['PCOS_Label']\n",
    "\n",
    "X_train, X_test, y_train, y_test = train_test_split(X, y, test_size=0.3, random_state=42)\n",
    "\n",
    "X_train"
   ]
  },
  {
   "cell_type": "code",
   "execution_count": 10,
   "metadata": {},
   "outputs": [
    {
     "data": {
      "text/plain": [
       "Index(['BMI', 'Fatigue_Levels', 'Headaches', 'Urinary_Issues',\n",
       "       'Fertility_Status', 'Sleep_Apnea', 'Family_History', 'Palpitations',\n",
       "       'Vision_Problems', 'Mood_Disorders'],\n",
       "      dtype='object')"
      ]
     },
     "execution_count": 10,
     "metadata": {},
     "output_type": "execute_result"
    }
   ],
   "source": [
    "X.columns"
   ]
  },
  {
   "cell_type": "code",
   "execution_count": 11,
   "metadata": {},
   "outputs": [
    {
     "name": "stdout",
     "output_type": "stream",
     "text": [
      "Accuracy: 0.85\n",
      "Cross-Validation Scores: [0.91166667 0.91083333 0.91083333 0.9025     0.91166667]\n",
      "Average Cross-Validation Score: 0.9094999999999999\n"
     ]
    }
   ],
   "source": [
    "# Instantiate the XGBoost classifier\n",
    "\n",
    "import xgboost as xgb\n",
    "from sklearn.model_selection import train_test_split\n",
    "from sklearn.preprocessing import StandardScaler\n",
    "\n",
    "\n",
    "scaler = StandardScaler()\n",
    "\n",
    "X_train_scaled = scaler.fit_transform(X_train)\n",
    "X_test_scaled = scaler.transform(X_test)\n",
    "\n",
    "model = xgb.XGBClassifier(n_estimators=1000, max_depth=5, learning_rate=0.05)\n",
    "model.fit(X_train_scaled, y_train)\n",
    "\n",
    "\n",
    "y_pred = model.predict(X_test)\n",
    "\n",
    "accuracy = accuracy_score(y_test, y_pred)\n",
    "print(f\"Accuracy: {accuracy:.2f}\")\n",
    "\n",
    "cv_scores = cross_val_score(model, X, y, cv=5)  # 5-fold cross-validation\n",
    "print(f\"Cross-Validation Scores: {cv_scores}\")\n",
    "print(f\"Average Cross-Validation Score: {np.mean(cv_scores)}\")"
   ]
  },
  {
   "cell_type": "code",
   "execution_count": null,
   "metadata": {},
   "outputs": [
    {
     "name": "stdout",
     "output_type": "stream",
     "text": [
      "[[30.2  2.   2.   1.   1.   1.   1.   2.   1.   2. ]\n",
      " [28.5  2.   1.   0.   1.   0.   1.   1.   1.   1. ]\n",
      " [32.1  1.   2.   1.   1.   1.   1.   0.   0.   2. ]\n",
      " [27.8  0.   1.   0.   1.   1.   1.   1.   0.   1. ]\n",
      " [35.   2.   2.   1.   1.   1.   1.   0.   0.   1. ]\n",
      " [22.5  0.   0.   0.   0.   0.   0.   0.   0.   0. ]\n",
      " [24.   0.   0.   0.   0.   0.   0.   0.   0.   0. ]\n",
      " [23.5  0.   0.   0.   0.   0.   0.   0.   0.   0. ]\n",
      " [25.   0.   0.   0.   0.   0.   0.   0.   0.   0. ]\n",
      " [29.4  1.   2.   1.   1.   1.   1.   1.   0.   2. ]]\n"
     ]
    }
   ],
   "source": [
    "import numpy as np\n",
    "\n",
    "test_data = np.array([\n",
    "   \n",
    "    [30.2, 2, 2, 1, 1, 1, 1, 2, 1, 2],  \n",
    "    \n",
    "\n",
    "    [28.5, 2, 1, 0, 1, 0, 1, 1, 1, 1], \n",
    "    \n",
    "\n",
    "    [32.1, 1, 2, 1, 1, 1, 1, 0, 0, 2],  \n",
    "    \n",
    "\n",
    "    [27.8, 0, 1, 0, 1, 1, 1, 1, 0, 1],  \n",
    "    \n",
    "  \n",
    "    [35.0, 2, 2, 1, 1, 1, 1, 0, 0, 1], \n",
    "    \n",
    "    [22.5, 0, 0, 0, 0, 0, 0, 0, 0, 0], \n",
    "    \n",
    "\n",
    "    [24.0, 0, 0, 0, 0, 0, 0, 0, 0, 0],  \n",
    "    \n",
    "\n",
    "    [23.5, 0, 0, 0, 0, 0, 0, 0, 0, 0], \n",
    "    \n",
    "    \n",
    "    [25.0, 0, 0, 0, 0, 0, 0, 0, 0, 0],  \n",
    "    \n",
    "  \n",
    "    [29.4, 1, 2, 1, 1, 1, 1, 1, 0, 2]   \n",
    "])\n",
    "\n",
    "\n",
    "print(test_data)"
   ]
  },
  {
   "cell_type": "code",
   "execution_count": 13,
   "metadata": {},
   "outputs": [
    {
     "name": "stderr",
     "output_type": "stream",
     "text": [
      "c:\\Users\\sahit\\AppData\\Local\\Programs\\Python\\Python312\\Lib\\site-packages\\sklearn\\base.py:465: UserWarning: X does not have valid feature names, but StandardScaler was fitted with feature names\n",
      "  warnings.warn(\n"
     ]
    }
   ],
   "source": [
    "data = scaler.transform(test_data)"
   ]
  },
  {
   "cell_type": "code",
   "execution_count": 14,
   "metadata": {},
   "outputs": [
    {
     "data": {
      "text/plain": [
       "array([[ 1.25905669,  1.73805546,  1.80182814,  1.55212464,  1.54767931,\n",
       "         1.56018533,  1.58113883,  1.79652296,  1.58854963,  1.75841467],\n",
       "       [ 0.88225592,  1.73805546,  0.54180846, -0.64427815,  1.54767931,\n",
       "        -0.6409495 ,  1.58113883,  0.53748801,  1.58854963,  0.50411073],\n",
       "       [ 1.68018697,  0.49510758,  1.80182814,  1.55212464,  1.54767931,\n",
       "         1.56018533,  1.58113883, -0.72154693, -0.62950504,  1.75841467],\n",
       "       [ 0.72710266, -0.74784031,  0.54180846, -0.64427815,  1.54767931,\n",
       "         1.56018533,  1.58113883,  0.53748801, -0.62950504,  0.50411073],\n",
       "       [ 2.32296476,  1.73805546,  1.80182814,  1.55212464,  1.54767931,\n",
       "         1.56018533,  1.58113883, -0.72154693, -0.62950504,  0.50411073],\n",
       "       [-0.44762917, -0.74784031, -0.71821122, -0.64427815, -0.64612869,\n",
       "        -0.6409495 , -0.63245553, -0.72154693, -0.62950504, -0.75019322],\n",
       "       [-0.11515789, -0.74784031, -0.71821122, -0.64427815, -0.64612869,\n",
       "        -0.6409495 , -0.63245553, -0.72154693, -0.62950504, -0.75019322],\n",
       "       [-0.22598165, -0.74784031, -0.71821122, -0.64427815, -0.64612869,\n",
       "        -0.6409495 , -0.63245553, -0.72154693, -0.62950504, -0.75019322],\n",
       "       [ 0.10648962, -0.74784031, -0.71821122, -0.64427815, -0.64612869,\n",
       "        -0.6409495 , -0.63245553, -0.72154693, -0.62950504, -0.75019322],\n",
       "       [ 1.08173868,  0.49510758,  1.80182814,  1.55212464,  1.54767931,\n",
       "         1.56018533,  1.58113883,  0.53748801, -0.62950504,  1.75841467]])"
      ]
     },
     "execution_count": 14,
     "metadata": {},
     "output_type": "execute_result"
    }
   ],
   "source": [
    "data"
   ]
  },
  {
   "cell_type": "code",
   "execution_count": 15,
   "metadata": {},
   "outputs": [
    {
     "data": {
      "text/plain": [
       "array([1, 1, 1, 1, 1, 0, 1, 0, 1, 1])"
      ]
     },
     "execution_count": 15,
     "metadata": {},
     "output_type": "execute_result"
    }
   ],
   "source": [
    "pred = model.predict(data)\n",
    "pred"
   ]
  },
  {
   "cell_type": "code",
   "execution_count": 16,
   "metadata": {},
   "outputs": [],
   "source": [
    "import pickle\n",
    "\n",
    "with open(\"PCOS.pkl\", 'wb') as f:\n",
    "    pickle.dump(model, f)"
   ]
  },
  {
   "cell_type": "code",
   "execution_count": 17,
   "metadata": {},
   "outputs": [],
   "source": [
    "import pickle\n",
    "\n",
    "with open(\"PCOS_scaler.pkl\", 'wb') as f:\n",
    "    pickle.dump(scaler, f)"
   ]
  },
  {
   "cell_type": "code",
   "execution_count": null,
   "metadata": {},
   "outputs": [],
   "source": []
  }
 ],
 "metadata": {
  "kernelspec": {
   "display_name": "Python 3",
   "language": "python",
   "name": "python3"
  },
  "language_info": {
   "codemirror_mode": {
    "name": "ipython",
    "version": 3
   },
   "file_extension": ".py",
   "mimetype": "text/x-python",
   "name": "python",
   "nbconvert_exporter": "python",
   "pygments_lexer": "ipython3",
   "version": "3.12.5"
  }
 },
 "nbformat": 4,
 "nbformat_minor": 2
}
